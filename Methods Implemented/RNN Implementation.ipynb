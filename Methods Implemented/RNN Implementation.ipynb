{
 "cells": [
  {
   "cell_type": "markdown",
   "metadata": {},
   "source": [
    "## Import Libraries"
   ]
  },
  {
   "cell_type": "code",
   "execution_count": 1,
   "metadata": {},
   "outputs": [
    {
     "name": "stderr",
     "output_type": "stream",
     "text": [
      "Using TensorFlow backend.\n"
     ]
    }
   ],
   "source": [
    "import pandas as pd\n",
    "import nltk,re,string\n",
    "import tensorflow\n",
    "from sklearn.metrics import accuracy_score,classification_report,precision_score,recall_score\n",
    "from sklearn.feature_extraction.text import CountVectorizer,TfidfVectorizer \n",
    "import warnings\n",
    "import numpy as np\n",
    "from sklearn.model_selection import train_test_split\n",
    "from nltk.stem.snowball import SnowballStemmer\n",
    "import keras\n",
    "warnings.filterwarnings(\"ignore\", category=RuntimeWarning)"
   ]
  },
  {
   "cell_type": "code",
   "execution_count": 2,
   "metadata": {},
   "outputs": [],
   "source": [
    "xtrain=pd.read_csv('./x_train.csv')\n",
    "xtest=pd.read_csv('./x_test.csv')\n",
    "ytrain=pd.read_csv('./y_train.csv')\n",
    "ytest=pd.read_csv('./y_test.csv')"
   ]
  },
  {
   "cell_type": "markdown",
   "metadata": {},
   "source": [
    "## Prep data"
   ]
  },
  {
   "cell_type": "code",
   "execution_count": 3,
   "metadata": {},
   "outputs": [],
   "source": [
    "from keras.preprocessing.text import Tokenizer\n",
    "from keras.preprocessing.sequence import pad_sequences"
   ]
  },
  {
   "cell_type": "code",
   "execution_count": 4,
   "metadata": {},
   "outputs": [],
   "source": [
    "tokenizer=Tokenizer()\n",
    "tokenizer.fit_on_texts(xtrain['clean_text'])\n",
    "xtrain_seq=tokenizer.texts_to_sequences(xtrain['clean_text'])\n",
    "xtest_seq=tokenizer.texts_to_sequences(xtest['clean_text'])"
   ]
  },
  {
   "cell_type": "code",
   "execution_count": 5,
   "metadata": {},
   "outputs": [],
   "source": [
    "xtrain_seqpadded=pad_sequences(xtrain_seq,50)\n",
    "xtest_seqpadded=pad_sequences(xtest_seq,50)"
   ]
  },
  {
   "cell_type": "markdown",
   "metadata": {},
   "source": [
    "## Build "
   ]
  },
  {
   "cell_type": "code",
   "execution_count": 10,
   "metadata": {},
   "outputs": [],
   "source": [
    "from keras.models import Sequential\n",
    "from keras.layers import Dense,LSTM,Embedding"
   ]
  },
  {
   "cell_type": "code",
   "execution_count": 11,
   "metadata": {},
   "outputs": [
    {
     "name": "stdout",
     "output_type": "stream",
     "text": [
      "WARNING:tensorflow:From C:\\ProgramData\\Anaconda3\\lib\\site-packages\\tensorflow\\python\\ops\\resource_variable_ops.py:435: colocate_with (from tensorflow.python.framework.ops) is deprecated and will be removed in a future version.\n",
      "Instructions for updating:\n",
      "Colocations handled automatically by placer.\n",
      "Model: \"sequential_4\"\n",
      "_________________________________________________________________\n",
      "Layer (type)                 Output Shape              Param #   \n",
      "=================================================================\n",
      "embedding_1 (Embedding)      (None, None, 32)          230016    \n",
      "_________________________________________________________________\n",
      "lstm_1 (LSTM)                (None, 32)                8320      \n",
      "_________________________________________________________________\n",
      "dense_1 (Dense)              (None, 32)                1056      \n",
      "_________________________________________________________________\n",
      "dense_2 (Dense)              (None, 1)                 33        \n",
      "=================================================================\n",
      "Total params: 239,425\n",
      "Trainable params: 239,425\n",
      "Non-trainable params: 0\n",
      "_________________________________________________________________\n"
     ]
    }
   ],
   "source": [
    "model=Sequential()\n",
    "model.add(Embedding(len(tokenizer.index_word)+1,32))\n",
    "model.add(LSTM(32,dropout=0,recurrent_dropout=0))\n",
    "model.add(Dense(32,activation='relu'))\n",
    "model.add(Dense(1,activation='sigmoid'))\n",
    "model.summary()"
   ]
  },
  {
   "cell_type": "code",
   "execution_count": 16,
   "metadata": {},
   "outputs": [],
   "source": [
    "import keras.backend as K\n",
    "def recall_m(ytrue,ypred):\n",
    "    truepos=K.sum(K.round(K.clip(ytrue*ypred,0,1)))\n",
    "    possiblepos=K.sum(K.round(K.clip(ytrue,0,1)))\n",
    "    recall=truepos/(possiblepos+K.epsilon())\n",
    "    return recall\n",
    "def precision_m(ytrue,ypred):\n",
    "    truepos=K.sum(K.round(K.clip(ytrue*ypred,0,1)))\n",
    "    predictedpos=K.sum(K.round(K.clip(ypred,0,1)))\n",
    "    precision=truepos/(predictedpos+K.epsilon())\n",
    "    return precision\n",
    "    "
   ]
  },
  {
   "cell_type": "code",
   "execution_count": 17,
   "metadata": {},
   "outputs": [],
   "source": [
    "\n",
    "model.compile(optimizer='adam',loss='binary_crossentropy',metrics=['accuracy',precision_m,recall_m])"
   ]
  },
  {
   "cell_type": "code",
   "execution_count": 20,
   "metadata": {},
   "outputs": [
    {
     "name": "stdout",
     "output_type": "stream",
     "text": [
      "WARNING:tensorflow:From C:\\ProgramData\\Anaconda3\\lib\\site-packages\\tensorflow\\python\\ops\\math_ops.py:3066: to_int32 (from tensorflow.python.ops.math_ops) is deprecated and will be removed in a future version.\n",
      "Instructions for updating:\n",
      "Use tf.cast instead.\n",
      "Train on 4457 samples, validate on 1115 samples\n",
      "Epoch 1/10\n",
      "4457/4457 [==============================] - 19s 4ms/step - loss: 0.3048 - accuracy: 0.9011 - precision_m: 0.4220 - recall_m: 0.3661 - val_loss: 0.0681 - val_accuracy: 0.9812 - val_precision_m: 1.0000 - val_recall_m: 0.8585racy: 0.8838 - precision_m:\n",
      "Epoch 2/10\n",
      "4457/4457 [==============================] - 18s 4ms/step - loss: 0.0430 - accuracy: 0.9883 - precision_m: 0.9831 - recall_m: 0.9345 - val_loss: 0.0510 - val_accuracy: 0.9839 - val_precision_m: 1.0000 - val_recall_m: 0.8740\n",
      "Epoch 3/10\n",
      "4457/4457 [==============================] - 49s 11ms/step - loss: 0.0181 - accuracy: 0.9953 - precision_m: 0.9712 - recall_m: 0.9531 - val_loss: 0.0718 - val_accuracy: 0.9830 - val_precision_m: 1.0000 - val_recall_m: 0.8669\n",
      "Epoch 4/10\n",
      "4457/4457 [==============================] - 282s 63ms/step - loss: 0.0063 - accuracy: 0.9987 - precision_m: 0.9986 - recall_m: 0.9881 - val_loss: 0.0333 - val_accuracy: 0.9865 - val_precision_m: 0.9759 - val_recall_m: 0.9193\n",
      "Epoch 5/10\n",
      "4457/4457 [==============================] - 299s 67ms/step - loss: 0.0032 - accuracy: 0.9993 - precision_m: 0.9929 - recall_m: 0.9892 - val_loss: 0.0669 - val_accuracy: 0.9848 - val_precision_m: 1.0000 - val_recall_m: 0.8788\n",
      "Epoch 6/10\n",
      "4457/4457 [==============================] - 249s 56ms/step - loss: 0.0013 - accuracy: 0.9996 - precision_m: 0.9690 - recall_m: 0.9704 - val_loss: 0.0503 - val_accuracy: 0.9865 - val_precision_m: 0.9959 - val_recall_m: 0.9026\n",
      "Epoch 7/10\n",
      "4457/4457 [==============================] - 240s 54ms/step - loss: 5.4952e-04 - accuracy: 0.9998 - precision_m: 0.9833 - recall_m: 0.9857 - val_loss: 0.0539 - val_accuracy: 0.9865 - val_precision_m: 0.9959 - val_recall_m: 0.9026\n",
      "Epoch 8/10\n",
      "4457/4457 [==============================] - 247s 55ms/step - loss: 1.8878e-04 - accuracy: 1.0000 - precision_m: 0.9929 - recall_m: 0.9929 - val_loss: 0.0684 - val_accuracy: 0.9874 - val_precision_m: 1.0000 - val_recall_m: 0.8954\n",
      "Epoch 9/10\n",
      "4457/4457 [==============================] - 243s 54ms/step - loss: 1.3654e-04 - accuracy: 1.0000 - precision_m: 1.0000 - recall_m: 1.0000 - val_loss: 0.0595 - val_accuracy: 0.9883 - val_precision_m: 0.9959 - val_recall_m: 0.9145\n",
      "Epoch 10/10\n",
      "4457/4457 [==============================] - 238s 53ms/step - loss: 1.0060e-04 - accuracy: 1.0000 - precision_m: 0.9929 - recall_m: 0.9929 - val_loss: 0.0633 - val_accuracy: 0.9892 - val_precision_m: 1.0000 - val_recall_m: 0.9145\n"
     ]
    }
   ],
   "source": [
    "hist=model.fit(xtrain_seqpadded,ytrain['label'],batch_size=32,epochs=10,\n",
    "              validation_data=(xtest_seqpadded,ytest))"
   ]
  },
  {
   "cell_type": "markdown",
   "metadata": {},
   "source": [
    "## Visualise the results"
   ]
  },
  {
   "cell_type": "code",
   "execution_count": 22,
   "metadata": {},
   "outputs": [
    {
     "data": {
      "image/png": "[encoded data removed]",
      "text/plain": [
       "<Figure size 432x288 with 1 Axes>"
      ]
     },
     "metadata": {
      "needs_background": "light"
     },
     "output_type": "display_data"
    },
    {
     "data": {
      "image/png": "[encoded data removed]",
      "text/plain": [
       "<Figure size 432x288 with 1 Axes>"
      ]
     },
     "metadata": {
      "needs_background": "light"
     },
     "output_type": "display_data"
    },
    {
     "data": {
      "image/png": "[encoded data removed]",
      "text/plain": [
       "<Figure size 432x288 with 1 Axes>"
      ]
     },
     "metadata": {
      "needs_background": "light"
     },
     "output_type": "display_data"
    }
   ],
   "source": [
    "import matplotlib.pyplot as plt\n",
    "%matplotlib inline\n",
    "\n",
    "for i in ['accuracy','precision_m','recall_m']:\n",
    "    acc=hist.history[i]\n",
    "    val_acc=hist.history['val_{}'.format(i)]\n",
    "    epochs=range(1,len(acc)+1\n",
    "                )\n",
    "    plt.figure()\n",
    "    plt.plot(epochs,acc,label='Training acc')\n",
    "    plt.plot(epochs,val_acc,label='Val acc')\n",
    "    plt.title('results for {}'.format(i))\n",
    "    plt.legend()\n",
    "    plt.show()"
   ]
  }
 ],
 "metadata": {
  "kernelspec": {
   "display_name": "Python 3",
   "language": "python",
   "name": "python3"
  },
  "language_info": {
   "codemirror_mode": {
    "name": "ipython",
    "version": 3
   },
   "file_extension": ".py",
   "mimetype": "text/x-python",
   "name": "python",
   "nbconvert_exporter": "python",
   "pygments_lexer": "ipython3",
   "version": "3.7.3"
  }
 },
 "nbformat": 4,
 "nbformat_minor": 2
}
